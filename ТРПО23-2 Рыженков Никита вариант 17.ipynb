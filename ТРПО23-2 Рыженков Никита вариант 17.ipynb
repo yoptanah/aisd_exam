{
 "cells": [
  {
   "cell_type": "markdown",
   "id": "16550e4e",
   "metadata": {},
   "source": [
    "#### 1 вопрос\n",
    "Алгоритм обменной сортировки, сложность сортировки и возможности по ее улучшению."
   ]
  },
  {
   "cell_type": "markdown",
   "id": "a4ad8635",
   "metadata": {},
   "source": [
    "Выполняется некоторое колчиство проходов по массиву - от начала до конца, где элемент проверяется с парой его соседних элементов и сортируется по убыванию. Алгоритм закончит выполнение, когда массив будет полностью отсортирован."
   ]
  },
  {
   "cell_type": "markdown",
   "id": "90b88054",
   "metadata": {},
   "source": [
    "#### 2 вопрос\n",
    "Создать класс очереди, который будет хранить только элементы определенной длины. Длина элементов задается при инициализации объекта класса очереди. При добавлении элемента, если его длина не соответствует заданной, то он не должен добавляться."
   ]
  },
  {
   "cell_type": "code",
   "execution_count": 2,
   "id": "14d22610",
   "metadata": {},
   "outputs": [],
   "source": [
    "class Queue:\n",
    "    def __init__(self, length):\n",
    "        self.length = length\n",
    "        self.queue = []\n",
    "\n",
    "#     добавление элемента\n",
    "    def enqueue(self, item):\n",
    "        if len(item) == self.length:\n",
    "            self.queue.append(item)\n",
    "        else:\n",
    "            pass\n",
    "\n",
    "#     удаление элемента\n",
    "    def dequeue(self):\n",
    "        if not self.is_empty():\n",
    "            return self.queue.pop(0)\n",
    "        else:\n",
    "            return 'очередь пуста'\n",
    "\n",
    "    def is_empty(self):\n",
    "        return len(self.queue) == 0\n",
    "    \n",
    "    def __str__(self):\n",
    "        return f'{self.queue}'"
   ]
  },
  {
   "cell_type": "code",
   "execution_count": 3,
   "id": "59f11282",
   "metadata": {},
   "outputs": [
    {
     "name": "stdout",
     "output_type": "stream",
     "text": [
      "['apple', 'grape']\n",
      "['grape']\n",
      "[]\n"
     ]
    }
   ],
   "source": [
    "q1 = Queue(5)\n",
    "q1.enqueue('baobab')\n",
    "q1.enqueue('apple')\n",
    "q1.enqueue('tree')\n",
    "q1.enqueue('grape')\n",
    "print(q1)\n",
    "\n",
    "q1.dequeue()\n",
    "print(q1)\n",
    "\n",
    "q1.dequeue()\n",
    "print(q1)"
   ]
  },
  {
   "cell_type": "markdown",
   "id": "b87606f8",
   "metadata": {},
   "source": [
    "#### 3 вопрос\n",
    "Создать класс очереди, который будет хранить только элементы типа str отсортированные по алфавиту. при добавлении элемента, если он не является строкой, то он не должен добавляться. При получении элементов из очереди они должны быть отсортированы по алфавиту."
   ]
  },
  {
   "cell_type": "code",
   "execution_count": 4,
   "id": "6c884bb0",
   "metadata": {},
   "outputs": [],
   "source": [
    "class Queue2:\n",
    "    def __init__(self):\n",
    "        self.queue = []\n",
    "        \n",
    "#     добавление элемента\n",
    "    def enqueue(self, item):\n",
    "        if type(item) == str:\n",
    "            self.queue.append(item)\n",
    "            self.queue = sorted(self.queue)\n",
    "        else:\n",
    "            pass\n",
    "\n",
    "#     удаление элемента\n",
    "    def dequeue(self):\n",
    "        if not self.is_empty():\n",
    "            return self.queue.pop(0)\n",
    "        else:\n",
    "            return 'очередь пуста'\n",
    "\n",
    "    def is_empty(self):\n",
    "        return len(self.queue) == 0\n",
    "    \n",
    "    def __str__(self):\n",
    "        return f'{self.queue}'\n",
    "        "
   ]
  },
  {
   "cell_type": "code",
   "execution_count": 5,
   "id": "564a7146",
   "metadata": {},
   "outputs": [
    {
     "name": "stdout",
     "output_type": "stream",
     "text": [
      "['', 'Prokofiev', 'Rakhmaninov', 'Shostakovich', 'Wagner']\n",
      "['Prokofiev', 'Rakhmaninov', 'Shostakovich', 'Wagner']\n"
     ]
    }
   ],
   "source": [
    "q2 = Queue2()\n",
    "q2.enqueue('Wagner')\n",
    "q2.enqueue('')\n",
    "q2.enqueue('Rakhmaninov')\n",
    "q2.enqueue(4)\n",
    "q2.enqueue(False)\n",
    "q2.enqueue('Shostakovich')\n",
    "q2.enqueue('Prokofiev')\n",
    "print(q2)\n",
    "\n",
    "q2.dequeue()\n",
    "print(q2)"
   ]
  },
  {
   "cell_type": "code",
   "execution_count": null,
   "id": "7311dd73",
   "metadata": {},
   "outputs": [],
   "source": []
  }
 ],
 "metadata": {
  "kernelspec": {
   "display_name": "Python 3 (ipykernel)",
   "language": "python",
   "name": "python3"
  },
  "language_info": {
   "codemirror_mode": {
    "name": "ipython",
    "version": 3
   },
   "file_extension": ".py",
   "mimetype": "text/x-python",
   "name": "python",
   "nbconvert_exporter": "python",
   "pygments_lexer": "ipython3",
   "version": "3.10.9"
  }
 },
 "nbformat": 4,
 "nbformat_minor": 5
}
